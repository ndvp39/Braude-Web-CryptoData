{
  "nbformat": 4,
  "nbformat_minor": 0,
  "metadata": {
    "colab": {
      "provenance": [],
      "include_colab_link": true
    },
    "kernelspec": {
      "name": "python3",
      "display_name": "Python 3"
    },
    "language_info": {
      "name": "python"
    },
    "widgets": {
      "application/vnd.jupyter.widget-state+json": {
        "83881413aac6465a8168b5899147d0ef": {
          "model_module": "@jupyter-widgets/controls",
          "model_name": "VBoxModel",
          "model_module_version": "1.5.0",
          "state": {
            "_dom_classes": [],
            "_model_module": "@jupyter-widgets/controls",
            "_model_module_version": "1.5.0",
            "_model_name": "VBoxModel",
            "_view_count": null,
            "_view_module": "@jupyter-widgets/controls",
            "_view_module_version": "1.5.0",
            "_view_name": "VBoxView",
            "box_style": "",
            "children": [
              "IPY_MODEL_e6ae0fd519804430834d8fe8c9efc4f8",
              "IPY_MODEL_30f64b32c8664c7e989ffbf30bbd952b",
              "IPY_MODEL_2825ad6d49b9471498af175e06facb52"
            ],
            "layout": "IPY_MODEL_8f6f4e0a3fb1420dab1225a0619abd5e"
          }
        },
        "e6ae0fd519804430834d8fe8c9efc4f8": {
          "model_module": "@jupyter-widgets/controls",
          "model_name": "TextareaModel",
          "model_module_version": "1.5.0",
          "state": {
            "_dom_classes": [],
            "_model_module": "@jupyter-widgets/controls",
            "_model_module_version": "1.5.0",
            "_model_name": "TextareaModel",
            "_view_count": null,
            "_view_module": "@jupyter-widgets/controls",
            "_view_module_version": "1.5.0",
            "_view_name": "TextareaView",
            "continuous_update": true,
            "description": "question:",
            "description_tooltip": null,
            "disabled": true,
            "layout": "IPY_MODEL_50218562439e4793aff22d9eca6e58e4",
            "placeholder": "​",
            "rows": null,
            "style": "IPY_MODEL_050f9bb96410445981abe00c33b5b743",
            "value": "What is the correct syntax to output the type of a variable or object in Python?"
          }
        },
        "30f64b32c8664c7e989ffbf30bbd952b": {
          "model_module": "@jupyter-widgets/controls",
          "model_name": "RadioButtonsModel",
          "model_module_version": "1.5.0",
          "state": {
            "_dom_classes": [],
            "_model_module": "@jupyter-widgets/controls",
            "_model_module_version": "1.5.0",
            "_model_name": "RadioButtonsModel",
            "_options_labels": [
              "print(typeOf(x))",
              "print(typeof(x))",
              "print(type(x))",
              "print typeof x"
            ],
            "_view_count": null,
            "_view_module": "@jupyter-widgets/controls",
            "_view_module_version": "1.5.0",
            "_view_name": "RadioButtonsView",
            "description": "Answers:",
            "description_tooltip": null,
            "disabled": false,
            "index": 0,
            "layout": "IPY_MODEL_54c2e2e4827a44209d96c36331bd4ac0",
            "style": "IPY_MODEL_93fa27bf76544bff9396b2b19737082e"
          }
        },
        "2825ad6d49b9471498af175e06facb52": {
          "model_module": "@jupyter-widgets/controls",
          "model_name": "ButtonModel",
          "model_module_version": "1.5.0",
          "state": {
            "_dom_classes": [],
            "_model_module": "@jupyter-widgets/controls",
            "_model_module_version": "1.5.0",
            "_model_name": "ButtonModel",
            "_view_count": null,
            "_view_module": "@jupyter-widgets/controls",
            "_view_module_version": "1.5.0",
            "_view_name": "ButtonView",
            "button_style": "",
            "description": "Submit",
            "disabled": false,
            "icon": "",
            "layout": "IPY_MODEL_fb44d87fb56d4db68596ecd60f610092",
            "style": "IPY_MODEL_8e63a7e79f774c15b7b47faa315ea736",
            "tooltip": ""
          }
        },
        "8f6f4e0a3fb1420dab1225a0619abd5e": {
          "model_module": "@jupyter-widgets/base",
          "model_name": "LayoutModel",
          "model_module_version": "1.2.0",
          "state": {
            "_model_module": "@jupyter-widgets/base",
            "_model_module_version": "1.2.0",
            "_model_name": "LayoutModel",
            "_view_count": null,
            "_view_module": "@jupyter-widgets/base",
            "_view_module_version": "1.2.0",
            "_view_name": "LayoutView",
            "align_content": null,
            "align_items": null,
            "align_self": null,
            "border": null,
            "bottom": null,
            "display": null,
            "flex": null,
            "flex_flow": null,
            "grid_area": null,
            "grid_auto_columns": null,
            "grid_auto_flow": null,
            "grid_auto_rows": null,
            "grid_column": null,
            "grid_gap": null,
            "grid_row": null,
            "grid_template_areas": null,
            "grid_template_columns": null,
            "grid_template_rows": null,
            "height": null,
            "justify_content": null,
            "justify_items": null,
            "left": null,
            "margin": null,
            "max_height": null,
            "max_width": null,
            "min_height": null,
            "min_width": null,
            "object_fit": null,
            "object_position": null,
            "order": null,
            "overflow": null,
            "overflow_x": null,
            "overflow_y": null,
            "padding": null,
            "right": null,
            "top": null,
            "visibility": null,
            "width": null
          }
        },
        "50218562439e4793aff22d9eca6e58e4": {
          "model_module": "@jupyter-widgets/base",
          "model_name": "LayoutModel",
          "model_module_version": "1.2.0",
          "state": {
            "_model_module": "@jupyter-widgets/base",
            "_model_module_version": "1.2.0",
            "_model_name": "LayoutModel",
            "_view_count": null,
            "_view_module": "@jupyter-widgets/base",
            "_view_module_version": "1.2.0",
            "_view_name": "LayoutView",
            "align_content": null,
            "align_items": null,
            "align_self": null,
            "border": null,
            "bottom": null,
            "display": null,
            "flex": null,
            "flex_flow": null,
            "grid_area": null,
            "grid_auto_columns": null,
            "grid_auto_flow": null,
            "grid_auto_rows": null,
            "grid_column": null,
            "grid_gap": null,
            "grid_row": null,
            "grid_template_areas": null,
            "grid_template_columns": null,
            "grid_template_rows": null,
            "height": "100px",
            "justify_content": null,
            "justify_items": null,
            "left": null,
            "margin": null,
            "max_height": null,
            "max_width": null,
            "min_height": null,
            "min_width": null,
            "object_fit": null,
            "object_position": null,
            "order": null,
            "overflow": null,
            "overflow_x": null,
            "overflow_y": null,
            "padding": null,
            "right": null,
            "top": null,
            "visibility": null,
            "width": "600px"
          }
        },
        "050f9bb96410445981abe00c33b5b743": {
          "model_module": "@jupyter-widgets/controls",
          "model_name": "DescriptionStyleModel",
          "model_module_version": "1.5.0",
          "state": {
            "_model_module": "@jupyter-widgets/controls",
            "_model_module_version": "1.5.0",
            "_model_name": "DescriptionStyleModel",
            "_view_count": null,
            "_view_module": "@jupyter-widgets/base",
            "_view_module_version": "1.2.0",
            "_view_name": "StyleView",
            "description_width": ""
          }
        },
        "54c2e2e4827a44209d96c36331bd4ac0": {
          "model_module": "@jupyter-widgets/base",
          "model_name": "LayoutModel",
          "model_module_version": "1.2.0",
          "state": {
            "_model_module": "@jupyter-widgets/base",
            "_model_module_version": "1.2.0",
            "_model_name": "LayoutModel",
            "_view_count": null,
            "_view_module": "@jupyter-widgets/base",
            "_view_module_version": "1.2.0",
            "_view_name": "LayoutView",
            "align_content": null,
            "align_items": null,
            "align_self": null,
            "border": null,
            "bottom": null,
            "display": null,
            "flex": null,
            "flex_flow": null,
            "grid_area": null,
            "grid_auto_columns": null,
            "grid_auto_flow": null,
            "grid_auto_rows": null,
            "grid_column": null,
            "grid_gap": null,
            "grid_row": null,
            "grid_template_areas": null,
            "grid_template_columns": null,
            "grid_template_rows": null,
            "height": null,
            "justify_content": null,
            "justify_items": null,
            "left": null,
            "margin": null,
            "max_height": null,
            "max_width": null,
            "min_height": null,
            "min_width": null,
            "object_fit": null,
            "object_position": null,
            "order": null,
            "overflow": null,
            "overflow_x": null,
            "overflow_y": null,
            "padding": null,
            "right": null,
            "top": null,
            "visibility": null,
            "width": "600px"
          }
        },
        "93fa27bf76544bff9396b2b19737082e": {
          "model_module": "@jupyter-widgets/controls",
          "model_name": "DescriptionStyleModel",
          "model_module_version": "1.5.0",
          "state": {
            "_model_module": "@jupyter-widgets/controls",
            "_model_module_version": "1.5.0",
            "_model_name": "DescriptionStyleModel",
            "_view_count": null,
            "_view_module": "@jupyter-widgets/base",
            "_view_module_version": "1.2.0",
            "_view_name": "StyleView",
            "description_width": ""
          }
        },
        "fb44d87fb56d4db68596ecd60f610092": {
          "model_module": "@jupyter-widgets/base",
          "model_name": "LayoutModel",
          "model_module_version": "1.2.0",
          "state": {
            "_model_module": "@jupyter-widgets/base",
            "_model_module_version": "1.2.0",
            "_model_name": "LayoutModel",
            "_view_count": null,
            "_view_module": "@jupyter-widgets/base",
            "_view_module_version": "1.2.0",
            "_view_name": "LayoutView",
            "align_content": null,
            "align_items": null,
            "align_self": null,
            "border": null,
            "bottom": null,
            "display": null,
            "flex": null,
            "flex_flow": null,
            "grid_area": null,
            "grid_auto_columns": null,
            "grid_auto_flow": null,
            "grid_auto_rows": null,
            "grid_column": null,
            "grid_gap": null,
            "grid_row": null,
            "grid_template_areas": null,
            "grid_template_columns": null,
            "grid_template_rows": null,
            "height": null,
            "justify_content": null,
            "justify_items": null,
            "left": null,
            "margin": null,
            "max_height": null,
            "max_width": null,
            "min_height": null,
            "min_width": null,
            "object_fit": null,
            "object_position": null,
            "order": null,
            "overflow": null,
            "overflow_x": null,
            "overflow_y": null,
            "padding": null,
            "right": null,
            "top": null,
            "visibility": null,
            "width": null
          }
        },
        "8e63a7e79f774c15b7b47faa315ea736": {
          "model_module": "@jupyter-widgets/controls",
          "model_name": "ButtonStyleModel",
          "model_module_version": "1.5.0",
          "state": {
            "_model_module": "@jupyter-widgets/controls",
            "_model_module_version": "1.5.0",
            "_model_name": "ButtonStyleModel",
            "_view_count": null,
            "_view_module": "@jupyter-widgets/base",
            "_view_module_version": "1.2.0",
            "_view_name": "StyleView",
            "button_color": null,
            "font_weight": ""
          }
        }
      }
    }
  },
  "cells": [
    {
      "cell_type": "markdown",
      "metadata": {
        "id": "view-in-github",
        "colab_type": "text"
      },
      "source": [
        "<a href=\"https://colab.research.google.com/github/ndvp39/Braude-Web-CryptoData/blob/main/tirgul_4.ipynb\" target=\"_parent\"><img src=\"https://colab.research.google.com/assets/colab-badge.svg\" alt=\"Open In Colab\"/></a>"
      ]
    },
    {
      "cell_type": "code",
      "execution_count": 27,
      "metadata": {
        "colab": {
          "base_uri": "https://localhost:8080/"
        },
        "id": "57w0HVvXV-lU",
        "outputId": "d3490a7b-2abd-4412-9c7c-6c14ca41d507"
      },
      "outputs": [
        {
          "output_type": "stream",
          "name": "stdout",
          "text": [
            "Drive already mounted at /content/drive; to attempt to forcibly remount, call drive.mount(\"/content/drive\", force_remount=True).\n"
          ]
        }
      ],
      "source": [
        "from google.colab import drive\n",
        "drive.mount('/content/drive')"
      ]
    },
    {
      "cell_type": "code",
      "source": [
        "cd /content/drive/My Drive/"
      ],
      "metadata": {
        "colab": {
          "base_uri": "https://localhost:8080/"
        },
        "id": "rOvFWgmJWOoW",
        "outputId": "632d367b-9e0a-4c17-a398-344c68cb8751"
      },
      "execution_count": 28,
      "outputs": [
        {
          "output_type": "stream",
          "name": "stdout",
          "text": [
            "/content/drive/My Drive\n"
          ]
        }
      ]
    },
    {
      "cell_type": "code",
      "source": [
        "!ls -l\n",
        "\n"
      ],
      "metadata": {
        "id": "f9NN53FUXEuV",
        "colab": {
          "base_uri": "https://localhost:8080/"
        },
        "outputId": "4463758e-8f3c-4d61-9e38-7e40c9ced735"
      },
      "execution_count": 29,
      "outputs": [
        {
          "output_type": "stream",
          "name": "stdout",
          "text": [
            "total 8099522\n",
            "-rw------- 1 root root     423770 Oct  6  2021  2.jpg\n",
            "-rw------- 1 root root        171 May 17  2021 ' AWL Writing Task - Nadav Goldin.py.gdoc'\n",
            "drwx------ 2 root root       4096 Jan 24 09:15  CloudComputing\n",
            "drwx------ 2 root root       4096 Jan 17 08:32 'Colab Notebooks'\n",
            "-rw------- 1 root root      40087 Mar 12  2023 'CV - Nadav Goldin.pdf'\n",
            "-rw------- 1 root root  558997470 Apr 13  2023 'Dioni - Kite surfing paradise  ---  Διόνι - Ο παράδεισος του kite surfing.mkv'\n",
            "-rw------- 1 root root    2435339 Oct  6  2021  G0010986.JPG\n",
            "-rw------- 1 root root    2410100 Oct  6  2021  G0010987.JPG\n",
            "-rw------- 1 root root    2405443 Oct  6  2021  G0020989.JPG\n",
            "-rw------- 1 root root    2420282 Oct  7  2021  G0020990.JPG\n",
            "-rw------- 1 root root    2341257 Oct  6  2021  G0020991.JPG\n",
            "-rw------- 1 root root    2391625 Oct  6  2021  G0020993.JPG\n",
            "drwx------ 2 root root       4096 Mar  7  2021  GoodNotes\n",
            "-rw------- 1 root root    6942860 Oct  6  2021  GOPR0982.JPG\n",
            "-rw------- 1 root root   50642355 Aug 27  2022 'hand drag to blind on beach 1.MP4'\n",
            "-rw------- 1 root root        171 Oct 24  2021 'If engineers judgment is overruled under circumstances that endanger life or property, they shall notify their employer or client and such other authority as may be appropriate.gdoc'\n",
            "-rw------- 1 root root    1786833 Jan  8  2023  IMG_0168.MOV\n",
            "-rw------- 1 root root     320527 Aug 24  2018  IMG-20171222-WA0007.jpg\n",
            "-rw------- 1 root root     149139 Aug 24  2018  IMG-20171223-WA0010.jpg\n",
            "-rw------- 1 root root     133057 Aug 24  2018  IMG-20171223-WA0012.jpg\n",
            "-rw------- 1 root root     181848 Aug 24  2018  IMG-20171223-WA0014.jpg\n",
            "-rw------- 1 root root     145608 Aug 24  2018  IMG-20171223-WA0015.jpg\n",
            "-rw------- 1 root root     197931 Aug 24  2018  IMG-20171225-WA0003.jpg\n",
            "-rw------- 1 root root     226887 Aug 24  2018  IMG-20171225-WA0004.jpg\n",
            "-rw------- 1 root root     313729 Aug 24  2018  IMG-20171225-WA0005.jpg\n",
            "-rw------- 1 root root     225180 Aug 24  2018  IMG-20171225-WA0006.jpg\n",
            "-rw------- 1 root root     312000 Aug 24  2018  IMG-20171225-WA0010.jpg\n",
            "-rw------- 1 root root     233431 Aug 24  2018  IMG-20180104-WA0012.jpeg\n",
            "-rw------- 1 root root      92060 Aug 24  2018  IMG-20180120-WA0000.jpg\n",
            "-rw------- 1 root root     228529 Aug 24  2018  IMG-20180128-WA0006.jpg\n",
            "-rw------- 1 root root     249427 Aug 24  2018  IMG-20180131-WA0000.jpg\n",
            "-rw------- 1 root root     251246 Aug 24  2018  IMG-20180131-WA0001.jpg\n",
            "-rw------- 1 root root     118785 Aug 24  2018  IMG-20180206-WA0020.jpg\n",
            "-rw------- 1 root root     123244 Aug 24  2018  IMG-20180207-WA0020.jpg\n",
            "-rw------- 1 root root     256804 Aug 24  2018  IMG-20180207-WA0023.jpg\n",
            "-rw------- 1 root root     145006 Aug 24  2018  IMG-20180207-WA0033.jpg\n",
            "-rw------- 1 root root     256595 Aug 24  2018  IMG-20180219-WA0009.jpg\n",
            "-rw------- 1 root root     245710 Aug 24  2018  IMG-20180222-WA0027.jpeg\n",
            "-rw------- 1 root root     636549 Aug 24  2018  IMG-20180222-WA0029.jpeg\n",
            "-rw------- 1 root root     160049 Aug 24  2018  IMG-20180226-WA0028.jpg\n",
            "-rw------- 1 root root     111467 Aug 24  2018  IMG-20180301-WA0002.jpeg\n",
            "-rw------- 1 root root     209119 Aug 24  2018  IMG-20180303-WA0008.jpeg\n",
            "-rw------- 1 root root     570641 Aug 24  2018  IMG-20180305-WA0011.jpeg\n",
            "-rw------- 1 root root     249090 Aug 24  2018  IMG-20180315-WA0014.jpeg\n",
            "-rw------- 1 root root     322819 Aug 24  2018  IMG-20180320-WA0012.jpg\n",
            "-rw------- 1 root root     309726 Aug 24  2018  IMG-20180320-WA0013.jpg\n",
            "-rw------- 1 root root     333287 Aug 24  2018  IMG-20180320-WA0014.jpg\n",
            "-rw------- 1 root root     324842 Aug 24  2018  IMG-20180320-WA0015.jpg\n",
            "-rw------- 1 root root     315265 Aug 24  2018  IMG-20180320-WA0016.jpg\n",
            "-rw------- 1 root root     227564 Aug 24  2018  IMG-20180320-WA0037.jpg\n",
            "-rw------- 1 root root     251246 Aug 24  2018  IMG-20180322-WA0018.jpg\n",
            "-rw------- 1 root root     145006 Aug 24  2018  IMG-20180322-WA0019.jpg\n",
            "-rw------- 1 root root     228529 Aug 24  2018  IMG-20180322-WA0020.jpg\n",
            "-rw------- 1 root root      95285 Aug 24  2018  IMG-20180322-WA0024.jpg\n",
            "-rw------- 1 root root     143773 Aug 24  2018  IMG-20180322-WA0025.jpg\n",
            "-rw------- 1 root root     238390 Aug 24  2018  IMG-20180401-WA0014.jpeg\n",
            "-rw------- 1 root root     209605 Aug 24  2018  IMG-20180403-WA0073.jpg\n",
            "-rw------- 1 root root      89099 Aug 24  2018  IMG-20180415-WA0024.jpg\n",
            "-rw------- 1 root root     162487 Aug 24  2018  IMG-20180415-WA0026.jpg\n",
            "-rw------- 1 root root      89099 Aug 24  2018  IMG-20180416-WA0001.jpg\n",
            "-rw------- 1 root root     552886 Aug 24  2018  IMG-20180419-WA0020.jpeg\n",
            "-rw------- 1 root root     214010 Aug 24  2018  IMG-20180427-WA0027.jpg\n",
            "-rw------- 1 root root     130396 Aug 24  2018  IMG-20180427-WA0029.jpg\n",
            "-rw------- 1 root root     151053 Aug 24  2018  IMG-20180501-WA0000.jpg\n",
            "-rw------- 1 root root     168168 Aug 24  2018  IMG-20180503-WA0004.jpeg\n",
            "-rw------- 1 root root     120210 Aug 24  2018  IMG-20180503-WA0019.jpg\n",
            "-rw------- 1 root root     407121 Aug 24  2018  IMG-20180505-WA0034-1.jpg\n",
            "-rw------- 1 root root     147628 Aug 24  2018  IMG-20180507-WA0006.jpg\n",
            "-rw------- 1 root root     145061 Aug 24  2018  IMG-20180507-WA0007.jpg\n",
            "-rw------- 1 root root     201403 Aug 24  2018  IMG-20180507-WA0023.jpg\n",
            "-rw------- 1 root root     242057 Aug 24  2018  IMG-20180508-WA0001.jpeg\n",
            "-rw------- 1 root root     151920 Aug 24  2018  IMG-20180508-WA0018.jpg\n",
            "-rw------- 1 root root     261577 Aug 24  2018  IMG-20180508-WA0021.jpg\n",
            "-rw------- 1 root root     114821 Aug 24  2018  IMG-20180508-WA0022.jpg\n",
            "-rw------- 1 root root     172136 Aug 24  2018  IMG-20180508-WA0023.jpg\n",
            "-rw------- 1 root root     149614 Aug 24  2018  IMG-20180508-WA0024.jpg\n",
            "-rw------- 1 root root     147090 Aug 24  2018  IMG-20180508-WA0025.jpg\n",
            "-rw------- 1 root root     160596 Aug 24  2018  IMG-20180509-WA0011.jpg\n",
            "-rw------- 1 root root     962704 Aug 24  2018  IMG-20180526-WA0007.jpeg\n",
            "-rw------- 1 root root      96895 Aug 24  2018  IMG-20180528-WA0003.jpg\n",
            "-rw------- 1 root root      86140 Aug 24  2018  IMG-20180606-WA0001.jpg\n",
            "-rw------- 1 root root     116465 Aug 24  2018  IMG-20180616-WA0004.jpg\n",
            "-rw------- 1 root root     202335 Aug 24  2018  IMG-20180618-WA0025.jpeg\n",
            "-rw------- 1 root root     119519 Aug 24  2018  IMG-20180622-WA0008.jpg\n",
            "-rw------- 1 root root  246608509 Aug  4  2023  LibericaJDK-17-Full.rar\n",
            "drwx------ 2 root root       4096 Jan 17 10:11  mihshoovanan-semester6\n",
            "-rw------- 1 root root 1227077949 Jan 25 16:26  MiniProject.zip\n",
            "-rw------- 1 root root        171 Dec 30  2021  NNA.gdoc\n",
            "-rw------- 1 root root        883 Feb 11 12:49  questions.json\n",
            "-rw------- 1 root root       1350 Jan 24 09:18  s1.json\n",
            "-rw------- 1 root root    4156704 Oct  7  2021  Screenshot_1.png\n",
            "-rw------- 1 root root    5894444 Oct  6  2021  Screenshot_2.png\n",
            "-rw------- 1 root root    4233553 Oct  6  2021  Screenshot_4.png\n",
            "-rw------- 1 root root    4191232 Oct  6  2021  Screenshot_5.png\n",
            "-rw------- 1 root root      53228 Jul 27  2019 'לוגו LearnToKite (1).jpg'\n",
            "-rw------- 1 root root      45083 Jul 27  2019 'לוגו LearnToKite.jpg'\n",
            "-rw------- 1 root root      40212 Jul 28  2019 '‏‏לוגו LearnToKite - עותק.jpg'\n",
            "-rw------- 1 root root      65605 Jul 29  2019 '‏‏‏‏לוגו LearnToKite - עותק - עותק (1).jpg'\n",
            "-rw------- 1 root root      60370 Jul 29  2019 '‏‏‏‏לוגו LearnToKite - עותק - עותק.jpg'\n",
            "-rw------- 1 root root 6152254986 Nov 13 23:35 'לוגיקה הרצאות+תרגולים דן.zip'\n",
            "-rw------- 1 root root     475521 Oct  7  2021 'ללא שם.jpg'\n",
            "-rw------- 1 root root        190 Apr 18  2019 '‏‏‫מסמך טקסט ‫חדש.txt'\n",
            "-rw------- 1 root root       2556 Apr 24  2019 '‏קטע קול מאת Nadav'\n",
            "-rw------- 1 root root        171 Mar  7  2022 'רחל גולדין סיכום והמלצות.gdoc'\n",
            "-rw------- 1 root root     415293 Feb 10  2022 'תז וספח.pdf'\n"
          ]
        }
      ]
    },
    {
      "cell_type": "code",
      "source": [
        "\n"
      ],
      "metadata": {
        "id": "v8ZhvNj6XKrx"
      },
      "execution_count": 29,
      "outputs": []
    },
    {
      "cell_type": "code",
      "source": [
        "import json\n",
        "import random\n",
        "from ipywidgets import widgets, Layout, RadioButtons, VBox"
      ],
      "metadata": {
        "id": "HQ_t1PDWYiQg"
      },
      "execution_count": 30,
      "outputs": []
    },
    {
      "cell_type": "code",
      "source": [
        "q_a_json_str = {\n",
        "        \"question1\" : {\n",
        "                       \"question\": \"what is the correct syntax to output Hello world \",\n",
        "                       \"answers\" : [\"print('Hello World')\",\"echo('Hello world');\",\"echo Hello world\",\"p('Hello world')\"],\n",
        "                       \"correct\" : 0\n",
        "                      },\n",
        "        \"question2\":  {\n",
        "                       \"question\": \"Which one is NOT a legal variable name?\",\n",
        "                       \"answers\" : [\"my_var\",\"my-var\",\"_myvar\",\"Myvar\"],\n",
        "                       \"correct\" : 1\n",
        "                      },\n",
        "         \"question3\": {\n",
        "                      \"question\": \"What is the correct file extension for Python files?\",\n",
        "                      \"answers\" : [\".py\",\".ply\",\".pp\",\".pton\"],\n",
        "                      \"correct\" : 0\n",
        "                      },\n",
        "        \"question4\": {\n",
        "                      \"question\": \"What is the correct syntax to output the type of a variable or object in Python?\",\n",
        "                      \"answers\" : [\"print(typeOf(x))\",\"print(typeof(x))\",\"print(type(x))\",\"print typeof x\"],\n",
        "                      \"correct\" : 2\n",
        "                      },\n",
        "        \"question5\": {\n",
        "                      \"question\": \"Which method can be used to remove any whitespace from both the beginning and the end of a string?\",\n",
        "                      \"answers\" : [\"strip()\",\"trim()\",\"ptrim()\",\"len()\"],\n",
        "                      \"correct\" : 1\n",
        "                      }\n",
        "}\n",
        "\n",
        "\n",
        "\n",
        "\n",
        "with open(\"questions.json\",\"w\") as jFile:\n",
        "    json.dump(q_a_json_str,jFile)\n",
        "    jFile.close()\n",
        "\n",
        "\n"
      ],
      "metadata": {
        "id": "U3_TAeyuXSyR"
      },
      "execution_count": 31,
      "outputs": []
    },
    {
      "cell_type": "code",
      "source": [
        "questions =[]\n",
        "with open(\"questions.json\",\"r\") as jsonFile:\n",
        "  questions = json.load(jsonFile)\n",
        "  jsonFile.close()\n"
      ],
      "metadata": {
        "id": "pNwf4LWDcJ-h"
      },
      "execution_count": 32,
      "outputs": []
    },
    {
      "cell_type": "code",
      "source": [
        "class Question:\n",
        "  def __init__(self,question,answers,correct_answer):\n",
        "    self.question = question\n",
        "    self.answers = answers\n",
        "    self.correct_answer = correct_answer\n",
        "    self.points = 5\n",
        "  def setPoint(self,points):\n",
        "    self.points = points\n",
        "  def getPoints(self):\n",
        "    return self.points\n",
        "\n",
        "#for question in questions:\n",
        "  #print(question[\"correct\"])\n"
      ],
      "metadata": {
        "id": "OvqGqGbjeVQ-"
      },
      "execution_count": 33,
      "outputs": []
    },
    {
      "cell_type": "code",
      "source": [
        "questions_list = list(questions.items())\n",
        "random.shuffle(questions_list)\n",
        "\n",
        "correct = 0\n",
        "i = 1\n",
        "grade = 0\n",
        "\n",
        "textboxQuestion = widgets.Textarea(description=\"question:\", disabled=True, layout=Layout(width='600px', height='100px'))\n",
        "radioButtons = RadioButtons(options=[], description='Answers:', layout=Layout(width='600px'))\n",
        "buttonSubmit = widgets.Button(description=\"Submit\")\n",
        "textboxGrade = widgets.Textarea(description=\"Grade:\", disabled=True, layout=Layout(width='600px', height='100px'))\n",
        "\n",
        "display(VBox([textboxQuestion, radioButtons, buttonSubmit]))\n",
        "\n",
        "def on_button_submit_clicked(b):\n",
        "    global correct, i\n",
        "    Answer = radioButtons.index\n",
        "    q_key, q_value = questions_list[i - 1]\n",
        "    print(\"\")\n",
        "\n",
        "    if Answer == q_value[\"correct\"]:\n",
        "        correct += 1\n",
        "        print(\"Correct!\")\n",
        "    else:\n",
        "        print(\"Incorrect!\")\n",
        "\n",
        "    #Move to the next question\n",
        "    i += 1\n",
        "    if i <= len(questions_list):\n",
        "        q_key, q_value = questions_list[i - 1]\n",
        "        textboxQuestion.value = q_value[\"question\"]\n",
        "        radioButtons.options = q_value[\"answers\"]\n",
        "        radioButtons.index = None\n",
        "    else:\n",
        "        print(\"\")\n",
        "        textboxGrade.value = f\"Quiz completed. Your final grade is: {correct / len(questions_list) * 100}\"\n",
        "        display(VBox([textboxGrade]))\n",
        "        radioButtons.disabled = True\n",
        "        buttonSubmit.disabled = True\n",
        "\n",
        "buttonSubmit.on_click(on_button_submit_clicked)\n",
        "\n",
        "#Display the first question\n",
        "q_key, q_value = questions_list[0]\n",
        "textboxQuestion.value = q_value[\"question\"]\n",
        "radioButtons.options = q_value[\"answers\"]"
      ],
      "metadata": {
        "id": "GXZnVsh5fMNn",
        "colab": {
          "base_uri": "https://localhost:8080/",
          "height": 249,
          "referenced_widgets": [
            "83881413aac6465a8168b5899147d0ef",
            "e6ae0fd519804430834d8fe8c9efc4f8",
            "30f64b32c8664c7e989ffbf30bbd952b",
            "2825ad6d49b9471498af175e06facb52",
            "8f6f4e0a3fb1420dab1225a0619abd5e",
            "50218562439e4793aff22d9eca6e58e4",
            "050f9bb96410445981abe00c33b5b743",
            "54c2e2e4827a44209d96c36331bd4ac0",
            "93fa27bf76544bff9396b2b19737082e",
            "fb44d87fb56d4db68596ecd60f610092",
            "8e63a7e79f774c15b7b47faa315ea736"
          ]
        },
        "outputId": "5e0f7003-6be8-4ffe-f323-b634ac5ee30e"
      },
      "execution_count": 34,
      "outputs": [
        {
          "output_type": "display_data",
          "data": {
            "text/plain": [
              "VBox(children=(Textarea(value='', description='question:', disabled=True, layout=Layout(height='100px', width=…"
            ],
            "application/vnd.jupyter.widget-view+json": {
              "version_major": 2,
              "version_minor": 0,
              "model_id": "83881413aac6465a8168b5899147d0ef"
            }
          },
          "metadata": {}
        }
      ]
    }
  ]
}